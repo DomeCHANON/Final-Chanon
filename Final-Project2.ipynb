{
  "cells": [
    {
      "cell_type": "code",
      "execution_count": 5,
      "metadata": {},
      "outputs": [],
      "source": [
        "import numpy as np\n",
        "import cv2 \n",
        "import os\n"
      ]
    },
    {
      "cell_type": "code",
      "execution_count": 6,
      "metadata": {},
      "outputs": [],
      "source": [
        "sift = cv2.SIFT_create()\n",
        "bf = cv2.BFMatcher()\n",
        "def preprocessing(img) :\n",
        "    img_gray = cv2.cvtColor(img, cv2.COLOR_BGR2GRAY)\n",
        "    # img = cv2.cvtColor(img, cv2.COLOR_BGR2RGB)\n",
        "    return (img, img_gray)\n",
        "\n",
        "\n",
        "vid = cv2.VideoCapture('./videos/final_exam/Dataset-1/left_output-1.avi') ### ของ Video\n",
        "template_img=cv2.imread('./images/final_exam/Templates/Template-1.png')   ### ของ images\n",
        "template_img, template_gray = preprocessing(template_img)\n",
        "\n",
        "### หา good_matches\n",
        "def feature_object_detection(template_img, template_gray, query_img, query_gray, min_match_number) : \n",
        "    template_kpts, template_desc = sift.detectAndCompute(template_gray, None)\n",
        "    query_kpts, query_desc = sift.detectAndCompute(query_gray, None)\n",
        "    matches = bf.knnMatch(template_desc, query_desc, k=2)\n",
        "    good_matches = list()\n",
        "    good_matches_list = list()\n",
        "    for m, n in matches :\n",
        "        if m.distance < 0.8*n.distance :\n",
        "            good_matches.append(m)\n",
        "            good_matches_list.append([m])\n",
        "    \n",
        "    if len(good_matches) > min_match_number :\n",
        "        src_pts = np.float32([ template_kpts[m.queryIdx].pt for m in good_matches ]).reshape(-1,1,2)\n",
        "        dst_pts = np.float32([ query_kpts[m.trainIdx].pt for m in good_matches ]).reshape(-1,1,2)\n",
        "\n",
        "        H, inlier_masks = cv2.findHomography(src_pts, dst_pts, cv2.RANSAC, 1.0) # H RANSAC\n",
        "        # get the bounding box around template image\n",
        "        h, w = template_img.shape[:2]\n",
        "        template_box = np.float32([[0, 0], [0, h-1], [w-1, h-1], [w-1, 0]]).reshape(-1,1,2)\n",
        "        transformed_box = cv2.perspectiveTransform(template_box, H)\n",
        "\n",
        "        detected_img = cv2.polylines(query_img, [np.int32(transformed_box)], True, (0,0,255), 3, cv2.LINE_AA) ### สร้างเส้นที่ใช้ในการตรวจจับ\n",
        "        drawmatch_img = cv2.drawMatchesKnn(template_img, template_kpts, detected_img, query_kpts, good_matches_list, None, flags=2, matchesMask=inlier_masks)\n",
        "        # cv2.imshow('frame',detected_img)\n",
        "\n",
        "        return detected_img, drawmatch_img\n",
        "    else :\n",
        "        print('Keypoints not enough')\n",
        "        return\n",
        "        \n",
        "    # vid = cv2.VideoCapture('./videos/final_exam/Dataset-1/left_output-1.avi')\n",
        "while vid.isOpened() :   ### ลูป while ใช้ในการเล่น Video \n",
        "    ret, frame = vid.read()\n",
        "    \n",
        "    if ret :\n",
        "        frame_gray = cv2.cvtColor(frame, cv2.COLOR_BGR2GRAY)\n",
        "        detected, drawmatch =  feature_object_detection(template_img, template_gray, frame, frame_gray, 1)\n",
        "        cv2.imshow('Video frame', frame)\n",
        "\n",
        "        if cv2.waitKey(int(15)) & 0xFF == ord('q') : # this line control the period between image frame\n",
        "            break\n",
        "    else :\n",
        "        break\n",
        "vid.release()\n",
        "cv2.destroyAllWindows()"
      ]
    }
  ],
  "metadata": {
    "colab": {
      "authorship_tag": "ABX9TyNCQ31cWoNbelkygdp5QSPv",
      "collapsed_sections": [],
      "include_colab_link": true,
      "name": "Homework3.ipynb",
      "provenance": [],
      "toc_visible": true
    },
    "kernelspec": {
      "display_name": "Python 3",
      "name": "python3"
    },
    "language_info": {
      "codemirror_mode": {
        "name": "ipython",
        "version": 3
      },
      "file_extension": ".py",
      "mimetype": "text/x-python",
      "name": "python",
      "nbconvert_exporter": "python",
      "pygments_lexer": "ipython3",
      "version": "3.9.6"
    }
  },
  "nbformat": 4,
  "nbformat_minor": 0
}
